{
 "cells": [
  {
   "cell_type": "code",
   "execution_count": 15,
   "id": "25971c37",
   "metadata": {},
   "outputs": [
    {
     "name": "stdout",
     "output_type": "stream",
     "text": [
      "Time taken: 0.13726210594177246 seconds\n"
     ]
    }
   ],
   "source": [
    "from numba import cuda\n",
    "import numpy as np\n",
    "from PIL import Image\n",
    "import numpy as np\n",
    "import time\n",
    "import math\n",
    "\n",
    "img_path = '../images/8k.jpg'\n",
    "\n",
    "img = np.array(Image.open(img_path))\n",
    "\n",
    "@cuda.jit\n",
    "def grayscale(src, dat):\n",
    "    x, y = cuda.grid(2)\n",
    "    if x < src.shape[0] and y < src.shape[1]:\n",
    "        r = src[x, y, 0]\n",
    "        g = src[x, y, 1]\n",
    "        b = src[x, y, 2]\n",
    "        dat[x, y] = (r + g + b) // 3\n",
    "\n",
    "\n",
    "gridsize = (8, 8)\n",
    "threadsperblock = (32, 32)\n",
    "blockspergrid_x = (img.shape[0] + (threadsperblock[0] - 1)) // threadsperblock[0]\n",
    "blockspergrid_y = (img.shape[1] + (threadsperblock[1] - 1)) // threadsperblock[1]\n",
    "blockspergrid = (blockspergrid_x, blockspergrid_y)\n",
    "start = time.time()\n",
    "img_gpu = cuda.to_device(img)\n",
    "dat_gpu = cuda.device_array((img.shape[0], img.shape[1]), dtype=np.uint8)\n",
    "grayscale[blockspergrid, threadsperblock](img_gpu, dat_gpu) \n",
    "dat = dat_gpu.copy_to_host()\n",
    "end = time.time() - start\n",
    "\n",
    "img_out = Image.fromarray(dat)\n",
    "img_out.save('8k_gray_2d_gpu.png')\n",
    "print(f\"Time taken: {end} seconds\")"
   ]
  },
  {
   "cell_type": "code",
   "execution_count": 14,
   "id": "7f2dd1f5",
   "metadata": {},
   "outputs": [
    {
     "name": "stdout",
     "output_type": "stream",
     "text": [
      "Time taken: 0.16550588607788086 seconds\n"
     ]
    }
   ],
   "source": [
    "from numba import cuda\n",
    "import numpy as np\n",
    "from PIL import Image\n",
    "import numpy as np\n",
    "import time\n",
    "import math\n",
    "\n",
    "img_path = '../images/8k.jpg'\n",
    "\n",
    "img = np.array(Image.open(img_path))\n",
    "\n",
    "@cuda.jit\n",
    "def grayscale(src, dat):\n",
    "    x, y = cuda.grid(2)\n",
    "    if x < src.shape[0] and y < src.shape[1]:\n",
    "        r = src[x, y, 0]\n",
    "        g = src[x, y, 1]\n",
    "        b = src[x, y, 2]\n",
    "        dat[x, y] = (r + g + b) // 3\n",
    "\n",
    "\n",
    "threadsperblock = (8, 8)\n",
    "blockspergrid_x = (img.shape[0] + (threadsperblock[0] - 1)) // threadsperblock[0]\n",
    "blockspergrid_y = (img.shape[1] + (threadsperblock[1] - 1)) // threadsperblock[1]\n",
    "blockspergrid = (blockspergrid_x, blockspergrid_y)\n",
    "start = time.time()\n",
    "img_gpu = cuda.to_device(img)\n",
    "dat_gpu = cuda.device_array((img.shape[0], img.shape[1]), dtype=np.uint8)\n",
    "grayscale[blockspergrid, threadsperblock](img_gpu, dat_gpu) \n",
    "dat = dat_gpu.copy_to_host()\n",
    "end = time.time() - start\n",
    "\n",
    "img_out = Image.fromarray(dat)\n",
    "img_out.save('8k_gray_2d_gpu.png')\n",
    "print(f\"Time taken: {end} seconds\")"
   ]
  },
  {
   "cell_type": "code",
   "execution_count": null,
   "id": "9cb51158",
   "metadata": {},
   "outputs": [
    {
     "name": "stdout",
     "output_type": "stream",
     "text": [
      "Time taken: 14.806711912155151 seconds\n"
     ]
    }
   ],
   "source": [
    "from PIL import Image \n",
    "\n",
    "img_path = '../images/8k.jpg'\n",
    "img = np.array(Image.open(img_path))\n",
    "\n",
    "start = time.time()\n",
    "width = img.shape[1]\n",
    "height = img.shape[0]\n",
    "\n",
    "red = img[:, :, 0]\n",
    "green = img[:, :, 1]\n",
    "blue = img[:, :, 2]\n",
    "\n",
    "target = np.zeros((height, width), dtype=np.uint8)\n",
    "for i in range(height):\n",
    "    for j in range(width):\n",
    "        r = img[i, j, 0]\n",
    "        g = img[i, j, 1]\n",
    "        b = img[i, j, 2]\n",
    "        gray = (int(r) + int(g) + int(b)) // 3\n",
    "        target[i, j] = gray\n",
    "\n",
    "img_out = Image.fromarray(target)\n",
    "img_out.save('8k_gray_cpu.png')\n",
    "end = time.time() - start\n",
    "\n",
    "print(f\"Time taken: {end} seconds\")"
   ]
  },
  {
   "cell_type": "code",
   "execution_count": null,
   "id": "3665dec9",
   "metadata": {},
   "outputs": [],
   "source": []
  }
 ],
 "metadata": {
  "kernelspec": {
   "display_name": "novete36",
   "language": "python",
   "name": "python3"
  },
  "language_info": {
   "codemirror_mode": {
    "name": "ipython",
    "version": 3
   },
   "file_extension": ".py",
   "mimetype": "text/x-python",
   "name": "python",
   "nbconvert_exporter": "python",
   "pygments_lexer": "ipython3",
   "version": "3.10.12"
  }
 },
 "nbformat": 4,
 "nbformat_minor": 5
}
