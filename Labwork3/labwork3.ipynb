{
 "cells": [
  {
   "cell_type": "code",
   "execution_count": null,
   "id": "f057ea40",
   "metadata": {},
   "outputs": [],
   "source": [
    "import numba\n",
    "import numba.cuda"
   ]
  },
  {
   "cell_type": "code",
   "execution_count": null,
   "id": "2704bef0",
   "metadata": {},
   "outputs": [],
   "source": [
    "from numba import cuda\n",
    "import numpy as np\n",
    "from PIL import Image\n",
    "import time\n",
    "import matplotlib.pyplot as plt\n",
    "\n",
    "\n",
    "img_path = '../images/8k.jpg'\n",
    "img = np.array(Image.open(img_path))\n",
    "img_flat = img.flatten().astype(np.uint8)\n",
    "src = cuda.to_device(img_flat)\n",
    "\n",
    "@cuda.jit\n",
    "def rgb2gray(src, dest):\n",
    "    idx = cuda.grid(1)\n",
    "    if idx < dest.size: \n",
    "        r = src[idx * 3]\n",
    "        g = src[idx * 3 + 1]\n",
    "        b = src[idx * 3 + 2]\n",
    "        gray = (r + g + b) // 3\n",
    "        dest[idx] = gray\n",
    "\n",
    "times = []\n",
    "\n",
    "for threads_per_block in range (1, 1025):\n",
    "    dest = cuda.device_array(img_flat.size // 3, dtype=np.uint8)\n",
    "    blocks_per_grid = (dest.size + (threads_per_block - 1)) // threads_per_block\n",
    "    average_time = 0\n",
    "    for _ in range(10):  # Warm-up\n",
    "        start = time.time()\n",
    "        rgb2gray[blocks_per_grid, threads_per_block](src, dest)\n",
    "        end = time.time()\n",
    "        elapsed = end - start\n",
    "        average_time += elapsed\n",
    "    average_time /= 10\n",
    "    times.append(average_time)\n",
    "\n",
    "# Plot results\n",
    "plt.figure(figsize=(10, 6))\n",
    "plt.plot(range(1, 1025), times)\n",
    "plt.title(\"CUDA rgb2gray Performance vs Threads per Block\")\n",
    "plt.xlabel(\"Threads per Block\")\n",
    "plt.ylabel(\"Execution Time (s)\")\n",
    "plt.grid()\n",
    "plt.show()"
   ]
  },
  {
   "cell_type": "code",
   "execution_count": 64,
   "id": "769d5133",
   "metadata": {},
   "outputs": [
    {
     "name": "stdout",
     "output_type": "stream",
     "text": [
      "0.8098772525787353 6.318092346191406e-05\n",
      "178 476\n"
     ]
    }
   ],
   "source": [
    "print(max(times), min(times))\n",
    "print(times.index(max(times))+1, times.index(min(times))+1)"
   ]
  },
  {
   "cell_type": "code",
   "execution_count": null,
   "id": "80df1a7b",
   "metadata": {},
   "outputs": [
    {
     "name": "stdout",
     "output_type": "stream",
     "text": [
      "Time taken (1D kernel): 0.12628698348999023 seconds\n"
     ]
    }
   ],
   "source": [
    "from numba import cuda\n",
    "import numpy as np\n",
    "from PIL import Image\n",
    "import time\n",
    "\n",
    "img_path = '../images/8k.jpg'\n",
    "\n",
    "img = np.array(Image.open(img_path))\n",
    "h, w, c = img.shape\n",
    "img_flat = img.reshape(-1, 3)\n",
    "\n",
    "@cuda.jit\n",
    "def grayscale_flat(src, dat):\n",
    "    idx = cuda.grid(1)  # 1D index\n",
    "    if idx < src.shape[0]:\n",
    "        r = src[idx, 0]\n",
    "        g = src[idx, 1]\n",
    "        b = src[idx, 2]\n",
    "        dat[idx] = (r + g + b) // 3\n",
    "\n",
    "\n",
    "threadsperblock = 256\n",
    "blockspergrid = (img_flat.shape[0] + (threadsperblock - 1)) // threadsperblock\n",
    "\n",
    "start = time.time()\n",
    "img_gpu = cuda.to_device(img_flat)\n",
    "dat_gpu = cuda.device_array(img_flat.shape[0], dtype=np.uint8)\n",
    "grayscale_flat[blockspergrid, threadsperblock](img_gpu, dat_gpu)\n",
    "dat = dat_gpu.copy_to_host()\n",
    "dat_2d = dat.reshape(h, w)  # back to 2D grayscale image\n",
    "end = time.time() - start\n",
    "\n",
    "\n",
    "img_out = Image.fromarray(dat_2d)\n",
    "img_out.save('../images/8k_gray_flat.png')\n",
    "print(f\"Time taken (1D kernel): {end} seconds\")"
   ]
  },
  {
   "cell_type": "code",
   "execution_count": null,
   "id": "95292da2",
   "metadata": {},
   "outputs": [
    {
     "name": "stdout",
     "output_type": "stream",
     "text": [
      "Time taken: 1.7936859130859375 seconds\n"
     ]
    }
   ],
   "source": [
    "from PIL import Image \n",
    "\n",
    "img_path = '../images/8k.jpg'\n",
    "img = np.array(Image.open(img_path))\n",
    "\n",
    "start = time.time()\n",
    "width = img.shape[1]\n",
    "height = img.shape[0]\n",
    "\n",
    "red = img[:, :, 0]\n",
    "green = img[:, :, 1]\n",
    "blue = img[:, :, 2]\n",
    "\n",
    "gray = (red.astype(np.int8) + green.astype(np.int8) + blue.astype(np.int8)) / 3\n",
    "target = np.zeros((height, width), dtype=np.uint8)\n",
    "target[:, :] = gray\n",
    "\n",
    "img_out = Image.fromarray(target)\n",
    "img_out.save('../images/8k_gray_cpu.png')\n",
    "end = time.time() - start\n",
    "\n",
    "print(f\"Time taken: {end} seconds\")\n"
   ]
  },
  {
   "cell_type": "code",
   "execution_count": null,
   "id": "cf6b79f7",
   "metadata": {},
   "outputs": [],
   "source": []
  }
 ],
 "metadata": {
  "kernelspec": {
   "display_name": "novete36",
   "language": "python",
   "name": "python3"
  },
  "language_info": {
   "codemirror_mode": {
    "name": "ipython",
    "version": 3
   },
   "file_extension": ".py",
   "mimetype": "text/x-python",
   "name": "python",
   "nbconvert_exporter": "python",
   "pygments_lexer": "ipython3",
   "version": "3.10.12"
  }
 },
 "nbformat": 4,
 "nbformat_minor": 5
}
